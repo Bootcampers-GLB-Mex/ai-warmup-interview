{
 "cells": [
  {
   "cell_type": "code",
   "execution_count": null,
   "metadata": {},
   "outputs": [],
   "source": [
    "import os, sys\n",
    "# Setup your root path\n",
    "package_path = '/Users/miguel.romero/Workspace/globant-projects/quizzler/engine-quizz'\n",
    "os.chdir(package_path)\n",
    "if package_path not in sys.path:\n",
    "  sys.path.append(package_path)\n",
    "!pip3 install -r ./libs/requirements.txt"
   ]
  },
  {
   "cell_type": "markdown",
   "metadata": {},
   "source": [
    "# The interviewer experiment\n",
    "\n",
    "## Goal"
   ]
  },
  {
   "cell_type": "code",
   "execution_count": null,
   "metadata": {},
   "outputs": [],
   "source": [
    "import os\n",
    "from dotenv import load_dotenv\n",
    "from langchain_openai import ChatOpenAI\n",
    "\n",
    "load_dotenv()\n",
    "OPEN_API_KEY = os.getenv(\"OPEN_API_KEY\")\n",
    "\n",
    "llm = ChatOpenAI(\n",
    "  openai_api_key=OPEN_API_KEY,\n",
    "  model_name=\"gpt-3.5-turbo-0125\",\n",
    "  temperature=0)"
   ]
  },
  {
   "cell_type": "code",
   "execution_count": null,
   "metadata": {},
   "outputs": [],
   "source": [
    "from langchain_core.globals import set_debug\n",
    "set_debug(True)"
   ]
  },
  {
   "cell_type": "code",
   "execution_count": null,
   "metadata": {},
   "outputs": [],
   "source": [
    "PROMPT_TEMPALTE = \"\"\"\n",
    "Eres un entrevistador para una vacante como desarrollador de software.\n",
    "Evalua la RESPUESTA del usuario tomando en consideración los CRITERIOS DE EVALUACION.\n",
    "Usa la información en CONTEXTO para hacer tus evaluaciones.\n",
    "Regresa la EVALUACION siguiendo el siguiente FORMATO:\n",
    "\n",
    "---\n",
    "<CATEGORIA>: <EVALUACION>\n",
    "<EXPLICACION DETALLADA DE LA EVALUACION>\n",
    "\n",
    "<FEEDBACK FINAL>\n",
    "---\n",
    "\n",
    "CATEGORIAS:\n",
    "{categories}\n",
    "\n",
    "CRITERIOS DE EVALUACION:\n",
    "- BAJO: CUANDO LA RESPUESTA NO EXPLICA A LA CATEGORIA EVALUADA\n",
    "- MEDIO: CUANDO LA RESPUESTA EXPLICA DE MANERA BREVE LA CATEGORIA EVALUADA\n",
    "- ALTO: CUANDO LA RESPUESTA EXPLICA A DETALLE LA CATEGORIA EVALUADA\n",
    "\n",
    "CONTEXTO:\n",
    "###\n",
    "{context}\n",
    "###\n",
    "\n",
    "RESPUESTA:\n",
    "{answer}\n",
    "\n",
    "EVALUACION:\n",
    "\n",
    "\"\"\""
   ]
  },
  {
   "cell_type": "code",
   "execution_count": null,
   "metadata": {},
   "outputs": [],
   "source": [
    "CONTEXT = \"\"\"S.O.L.I.D. es un acrónimo que representa cinco principios de diseño de software orientado a objetos que se utilizan para desarrollar software que sea más fácil de mantener y extender a lo largo del tiempo.\n",
    "\n",
    "S = Principio de Responsabilidad Única (Single Responsibility Principle):\n",
    "Este principio establece que una clase debe tener una única responsabilidad, es decir, debe tener un solo motivo para cambiar. Esto significa que una clase debe hacer solo una cosa. Si una clase tiene múltiples responsabilidades, se vuelve más difícil de entender, mantener y extender. Dividir la funcionalidad en clases más pequeñas y especializadas mejora la cohesión y reduce la dependencia entre las partes del sistema.\n",
    "\n",
    "O - Principio de Abierto/Cerrado (Open/Closed Principle):\n",
    "Este principio establece que las entidades de software (clases, módulos, funciones, etc.) deben estar abiertas para extensión pero cerradas para modificación. Esto significa que el código debe estar diseñado de manera que pueda extenderse para adaptarse a nuevos requisitos o cambios en los existentes, sin necesidad de modificar el código fuente original. Esto se logra mediante el uso de abstracciones, interfaces y patrones de diseño que permiten agregar nueva funcionalidad sin alterar el código existente.\n",
    "\n",
    "L - Principio de Sustitución de Liskov (Liskov Substitution Principle):\n",
    "Este principio establece que los objetos de un programa deben ser reemplazables por instancias de sus subtipos sin alterar la corrección del programa. En otras palabras, si S es un subtipo de T, entonces los objetos de tipo T pueden ser reemplazados por objetos de tipo S sin afectar la funcionalidad del programa. Esto garantiza que la herencia se utilice de manera coherente y que los subtipos cumplan con el contrato definido por sus tipos base.\n",
    "\n",
    "I - Principio de Segregación de la Interfaz (Interface Segregation Principle):\n",
    "Este principio establece que una clase no debe verse obligada a implementar interfaces que no utiliza. En lugar de tener interfaces grandes y monolíticas, es preferible tener interfaces más pequeñas y específicas. Esto permite que las clases dependan solo de las interfaces que necesitan, lo que reduce el acoplamiento y facilita la reutilización del código.\n",
    "\n",
    "D - Principio de Inversión de Dependencias (Dependency Inversion Principle):\n",
    "Este principio establece que los módulos de alto nivel no deben depender de los módulos de bajo nivel, ambos deben depender de abstracciones. Además, las abstracciones no deben depender de los detalles, los detalles deben depender de las abstracciones. Esto se logra mediante el uso de interfaces o clases abstractas que definen contratos entre componentes del sistema, lo que permite que los detalles de implementación se proporcionen a través de la inyección de dependencias.\"\"\"\n",
    "\n",
    "# CATEGORIES= \"\"\"\n",
    "# - S: Principio de Responsabilidad Única (Single Responsibility Principle)\n",
    "# - O: Principio de Abierto/Cerrado (Open/Closed Principle)\n",
    "# - L: Principio de Sustitución de Liskov (Liskov Substitution Principle)\n",
    "# - I: Principio de Segregación de la Interfaz (Interface Segregation Principle)\n",
    "# - D: Principio de Inversión de Dependencias (Dependency Inversion Principle)\n",
    "# \"\"\"\n",
    "\n",
    "CATEGORIES = \"\"\"- Concepto de SOLID\n",
    "- Concepto de Single responsability principle\n",
    "- Open/Close principle\n",
    "- Lisvok substitution\n",
    "- Interface Segregation\n",
    "- Dependency Inversion\"\"\""
   ]
  },
  {
   "cell_type": "code",
   "execution_count": null,
   "metadata": {},
   "outputs": [],
   "source": [
    "from langchain.chains.combine_documents import create_stuff_documents_chain\n",
    "from langchain_core.prompts import ChatPromptTemplate\n",
    "\n",
    "\n",
    "prompt = ChatPromptTemplate.from_template(PROMPT_TEMPALTE)\n",
    "\n",
    "document_chain = create_stuff_documents_chain(llm, prompt)"
   ]
  },
  {
   "cell_type": "code",
   "execution_count": null,
   "metadata": {},
   "outputs": [],
   "source": [
    "from langchain_core.documents import Document\n",
    "\n",
    "document_chain.invoke({\n",
    "    \"answer\": \"Solid es un acronimo de los 5 principios de diseño de software orientado a objetos, que se utilizan para desarrollar software que sea más fácil de mantener y extender a lo largo del tiempo. Los principios son: Single Responsibility Principle, Open/Closed Principle, Liskov Substitution Principle, Interface Segregation Principle, Dependency Inversion Principle.\",\n",
    "    \"context\": [Document(page_content=CONTEXT, page_title=\"S.O.L.I.D. Principles\")],\n",
    "    \"categories\": CATEGORIES\n",
    "})"
   ]
  },
  {
   "cell_type": "code",
   "execution_count": null,
   "metadata": {},
   "outputs": [],
   "source": [
    "'---\\nConcepto de SOLID: MEDIO\\nLa respuesta menciona los cinco principios de SOLID de manera general, pero no profundiza en cada uno de ellos ni explica en qué consisten.\\n\\n<FEEDBACK FINAL>\\nSería útil que el candidato explicara cada uno de los principios de SOLID de forma más detallada para demostrar un mejor entendimiento de los conceptos.'"
   ]
  }
 ],
 "metadata": {
  "kernelspec": {
   "display_name": ".venv",
   "language": "python",
   "name": "python3"
  },
  "language_info": {
   "codemirror_mode": {
    "name": "ipython",
    "version": 3
   },
   "file_extension": ".py",
   "mimetype": "text/x-python",
   "name": "python",
   "nbconvert_exporter": "python",
   "pygments_lexer": "ipython3",
   "version": "3.11.7"
  }
 },
 "nbformat": 4,
 "nbformat_minor": 2
}
