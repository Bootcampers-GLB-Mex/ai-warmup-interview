{
 "cells": [
  {
   "cell_type": "code",
   "execution_count": null,
   "metadata": {},
   "outputs": [],
   "source": [
    "import os, sys\n",
    "# Setup your root path\n",
    "package_path = '/Users/miguel.romero/Workspace/globant-projects/quizzler/engine-quizz'\n",
    "os.chdir(package_path)\n",
    "if package_path not in sys.path:\n",
    "  sys.path.append(package_path)\n",
    "!pip3 install -r ./libs/requirements.txt"
   ]
  },
  {
   "cell_type": "code",
   "execution_count": null,
   "metadata": {},
   "outputs": [],
   "source": [
    "!pip3 install pandas matplotlib"
   ]
  },
  {
   "cell_type": "markdown",
   "metadata": {},
   "source": [
    "# AI Evaluator\n",
    "\n",
    "The intent for this experiment is the hability to create a warmup given a context"
   ]
  },
  {
   "cell_type": "code",
   "execution_count": null,
   "metadata": {},
   "outputs": [],
   "source": [
    "import pandas as pd\n",
    "\n",
    "talent_model = pd.read_csv('./experiments/Talent-Model.csv')\n",
    "talent_model.fillna(method='ffill', inplace=True)"
   ]
  },
  {
   "cell_type": "markdown",
   "metadata": {},
   "source": [
    "## Analyzing skills for Seniority Level 4\n",
    "\n",
    "The next analysis takes the skills for a Dev Level 4 (Senior) and just taking in consideration the skills metric from \"Can perform with limited supervion\" to \"Can teach others\""
   ]
  },
  {
   "cell_type": "code",
   "execution_count": null,
   "metadata": {},
   "outputs": [],
   "source": [
    "level4_tm = talent_model.iloc[:, [0,1,2,3,7]]\n",
    "can_perform_w_limited_supervision = level4_tm.query('`Level 4` == \"3 - Can perform with limited supervision\"')\n",
    "can_perform_w_supervision = level4_tm.query('`Level 4` == \"4 - Can perform without supervision\"')\n",
    "can_teach = level4_tm.query('`Level 4` == \"5 - Can teach others\"')"
   ]
  },
  {
   "cell_type": "code",
   "execution_count": null,
   "metadata": {},
   "outputs": [],
   "source": [
    "can_perform_w_limited_supervision.describe()"
   ]
  },
  {
   "cell_type": "code",
   "execution_count": null,
   "metadata": {},
   "outputs": [],
   "source": [
    "can_perform_w_limited_supervision.groupby(by=\"Position’s Capabilities (SE)\").count()"
   ]
  },
  {
   "cell_type": "markdown",
   "metadata": {},
   "source": [
    "### Adding skill name"
   ]
  },
  {
   "cell_type": "code",
   "execution_count": null,
   "metadata": {},
   "outputs": [],
   "source": [
    "temp_df_l3 = can_perform_w_limited_supervision.assign(One_Shot= lambda x: x['Subjects']+ \" \" + x['Tool / Framework / Libs'])\n",
    "temp_df_l4 = can_perform_w_supervision.assign(One_Shot= lambda x: x['Subjects']+ \" \" + x['Tool / Framework / Libs'])\n",
    "temp_df_l5 = can_teach.assign(One_Shot= lambda x: x['Subjects']+ \" \" + x['Tool / Framework / Libs'])"
   ]
  },
  {
   "cell_type": "code",
   "execution_count": null,
   "metadata": {},
   "outputs": [],
   "source": [
    "temp_concat = pd.concat([temp_df_l3, temp_df_l4, temp_df_l5], axis=0)  # Concatenate the DataFrames\n",
    "temp_concat = temp_concat.iloc[:, -1]\n",
    "temp_concat\n"
   ]
  },
  {
   "cell_type": "markdown",
   "metadata": {},
   "source": [
    "### Getting just the skill name"
   ]
  },
  {
   "cell_type": "code",
   "execution_count": null,
   "metadata": {},
   "outputs": [],
   "source": [
    "senior_skills_l3 = temp_df_l3.iloc[:, -1]\n",
    "senior_skills_l4 = temp_df_l4.iloc[:, -1]\n",
    "senior_skills_l5 = temp_df_l5.iloc[:, -1]"
   ]
  },
  {
   "cell_type": "code",
   "execution_count": null,
   "metadata": {},
   "outputs": [],
   "source": [
    "def split_to_pages(df, page_size):\n",
    "  \"\"\"\n",
    "  Split a DataFrame into pages of a given size\n",
    "  \"\"\"\n",
    "  return [df[i:i+page_size] for i in range(0, df.shape[0], page_size)]"
   ]
  },
  {
   "cell_type": "code",
   "execution_count": null,
   "metadata": {},
   "outputs": [],
   "source": [
    "l3_pages = split_to_pages(senior_skills_l3, 10)\n",
    "l4_pages = split_to_pages(senior_skills_l4, 10)\n",
    "l5_pages = split_to_pages(senior_skills_l5, 10)\n",
    "\n",
    "len(l3_pages), len(l4_pages), len(l5_pages)"
   ]
  },
  {
   "cell_type": "code",
   "execution_count": null,
   "metadata": {},
   "outputs": [],
   "source": [
    "for list_items in l3_pages:\n",
    "  for item in list_items:\n",
    "    print(item)"
   ]
  },
  {
   "cell_type": "code",
   "execution_count": null,
   "metadata": {},
   "outputs": [],
   "source": [
    "def generate_skills_prompt(skill_title: str, skills_set: list):\n",
    "  \"\"\"\n",
    "  Generate a prompt for a set of skills\n",
    "  \"\"\"\n",
    "  prompt_skills = f\"{skill_title}\\n\"\n",
    "  for skill in skills_set:\n",
    "    prompt_skills += f\"- {skill}\\n\"\n",
    "  return prompt_skills"
   ]
  },
  {
   "cell_type": "code",
   "execution_count": null,
   "metadata": {},
   "outputs": [],
   "source": [
    "l3_pages_prompts = [generate_skills_prompt(\"Can perform with limited supervision:\", page) for page in l3_pages]\n",
    "l4_pages_prompts = [generate_skills_prompt(\"Can perform without supervision:\", page) for page in l4_pages]\n",
    "l5_pages_prompts = [generate_skills_prompt(\"Can teach others:\", page) for page in l5_pages]"
   ]
  },
  {
   "cell_type": "code",
   "execution_count": null,
   "metadata": {},
   "outputs": [],
   "source": [
    "l3_pages_prompts[0]"
   ]
  },
  {
   "cell_type": "code",
   "execution_count": null,
   "metadata": {},
   "outputs": [],
   "source": [
    "import os\n",
    "from dotenv import load_dotenv\n",
    "from langchain_openai import ChatOpenAI\n",
    "\n",
    "load_dotenv()\n",
    "OPEN_API_KEY = os.getenv(\"OPEN_API_KEY\")\n",
    "\n",
    "llm = ChatOpenAI(\n",
    "  openai_api_key=OPEN_API_KEY,\n",
    "  model_name=\"gpt-3.5-turbo-0125\",\n",
    "  temperature=0)"
   ]
  },
  {
   "cell_type": "code",
   "execution_count": null,
   "metadata": {},
   "outputs": [],
   "source": [
    "PROMPT_TEMPLATE = \"\"\"\n",
    "You are a software development technical interviews generator.\n",
    "Your job is generate the QUESTIONS and CORRECT ANSWERS based on the SKILLS section.\n",
    "Use the EVALUATION METRIC to generate QUESTIONS and ANSWERS according the skills level required.\n",
    "\n",
    "EVALUATION METRIC:\n",
    "- Can't perform: Candidate lacks the necessary skills or knowledge to fulfill the job requirements, even with guidance.\n",
    "- Can perform with supervision: Candidate has basic understanding but needs constant guidance to perform the task effectively.\n",
    "- Can perform with limited supervision: Candidate can perform the task independently but may occasionally require some guidance or clarification.\n",
    "- Can perform without supervision: Candidate is fully capable of independently performing the task without any supervision or guidance.\n",
    "- Can teach others: Candidate not only possesses the skills to perform the task but can effectively teach and transfer that knowledge to others.\n",
    "\n",
    "SKILLS:\n",
    "###\n",
    "{skills}\n",
    "###\n",
    "\n",
    "Return the output in json format with the following structure:\n",
    "[{{{{\n",
    "  \"question\": <QUESTION>,\n",
    "  \"answer\": <ANSWER>,\n",
    "  \"skill\": <SKILL TO EVALUATE>,\n",
    "}}}}]\n",
    "\"\"\""
   ]
  },
  {
   "cell_type": "code",
   "execution_count": null,
   "metadata": {},
   "outputs": [],
   "source": [
    "# from langchain.chains.combine_documents import \n",
    "# create_stuff_documents_chain\n",
    "import json\n",
    "from operator import itemgetter\n",
    "from langchain_core.prompts import PromptTemplate\n",
    "from langchain_core.output_parsers import StrOutputParser\n",
    "\n",
    "prompt = PromptTemplate.from_template(PROMPT_TEMPLATE)\n",
    "\n",
    "chain = {\"skills\": itemgetter(\"skills\")} | prompt | llm | StrOutputParser() | (lambda x: json.loads(x))\n",
    "\n",
    "result = chain.invoke({\"skills\": l3_pages_prompts[0]})"
   ]
  },
  {
   "cell_type": "code",
   "execution_count": null,
   "metadata": {},
   "outputs": [],
   "source": [
    "class InterviewQuestionDto:\n",
    "  def __init__(self, question: str, answer: str, skill: str):\n",
    "    self.question = question\n",
    "    self.answer = answer\n",
    "    self.skill_name = skill\n",
    "\n",
    "  @staticmethod\n",
    "  def from_dict(data: list):\n",
    "    return InterviewQuestionDto(data[\"question\"], data[\"answer\"], data[\"skill\"])\n",
    "  \n",
    "  def set_dev_level(self, dev_level: str):\n",
    "    self.dev_level = dev_level\n",
    "\n",
    "  def set_skill_level(self, skill_level: str):\n",
    "    self.skill_level = skill_level\n",
    "\n",
    "class InterviewDto:\n",
    "  def __init__(self, interview_title: str, questions: list):\n",
    "    self.interview_title = interview_title\n",
    "    self.questions = questions\n",
    "\n",
    "  @staticmethod\n",
    "  def from_questions(interview_title: str, data: list):\n",
    "    questions = [InterviewQuestionDto.from_dict(q) for q in data]\n",
    "    return InterviewDto(interview_title, questions)\n",
    "  \n",
    "  def enrich_questions(self, dev_level: str, skill_level: str):\n",
    "    for q in self.questions:\n",
    "      q.set_dev_level(dev_level)\n",
    "      q.set_skill_level(skill_level)\n",
    "\n",
    "  def add_questions(self, questions: list):\n",
    "    self.questions.extend(questions)\n",
    "\n",
    "  def to_dict(self):\n",
    "    return {\n",
    "      \"interview_title\": self.interview_title,\n",
    "      \"questions\": [q.__dict__ for q in self.questions]\n",
    "    }\n",
    "\n",
    "  def __str__(self):\n",
    "    return f\"Skill: {self.skill_name} - Questions: {len(self.questions)}\"\n",
    "\n",
    "  def __repr__(self):\n",
    "    return f\"Skill: {self.skill_name} - Questions: {len(self.questions)}\""
   ]
  },
  {
   "cell_type": "code",
   "execution_count": null,
   "metadata": {},
   "outputs": [],
   "source": [
    "interview = InterviewDto.from_questions(\"Senior - Skills level 3\", result)\n",
    "interview.enrich_questions(\"Senior\", \"Can perform with limited supervision\")"
   ]
  },
  {
   "cell_type": "code",
   "execution_count": null,
   "metadata": {},
   "outputs": [],
   "source": [
    "interview.to_dict()"
   ]
  },
  {
   "cell_type": "code",
   "execution_count": null,
   "metadata": {},
   "outputs": [],
   "source": [
    "def write_json(file_name: str, skills_prompts: list):\n",
    "  with open(f'{file_name}.json', 'w') as f:\n",
    "    json.dump(skills_prompts, f)"
   ]
  },
  {
   "cell_type": "code",
   "execution_count": null,
   "metadata": {},
   "outputs": [],
   "source": [
    "write_json('Dev Senior - Skills Level 3', interview.to_dict())"
   ]
  }
 ],
 "metadata": {
  "kernelspec": {
   "display_name": ".venv",
   "language": "python",
   "name": "python3"
  },
  "language_info": {
   "codemirror_mode": {
    "name": "ipython",
    "version": 3
   },
   "file_extension": ".py",
   "mimetype": "text/x-python",
   "name": "python",
   "nbconvert_exporter": "python",
   "pygments_lexer": "ipython3",
   "version": "3.11.7"
  }
 },
 "nbformat": 4,
 "nbformat_minor": 2
}
